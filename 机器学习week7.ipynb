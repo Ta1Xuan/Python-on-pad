{
 "cells": [
  {
   "cell_type": "code",
   "execution_count": 76,
   "id": "b7c93f0e",
   "metadata": {},
   "outputs": [],
   "source": [
    "from sklearn import tree\n",
    "from sklearn.model_selection import train_test_split\n",
    "from sklearn.metrics import accuracy_score,precision_score,recall_score,f1_score\n",
    "import pandas as pd\n",
    "import numpy as np"
   ]
  },
  {
   "cell_type": "code",
   "execution_count": 61,
   "id": "4856740f",
   "metadata": {},
   "outputs": [],
   "source": [
    "data=pd.read_excel(\"BankChurners2.xlsx\")\n",
    "\n",
    "#将字符串转换成数值\n",
    "def string_indexer(data,column):\n",
    "    mapper={}\n",
    "    i=0\n",
    "    for key in set(data[column]):\n",
    "        mapper[key]=i\n",
    "        i+=1\n",
    "    data[column]=data[column].map(mapper)\n",
    "\n",
    "columns=[\"Attrition_Flag\",\"Gender\",\"Education_Level\",\"Marital_Status\",\"Income_Category\",\"Card_Category\"]\n",
    "\n",
    "for column in columns:\n",
    "    string_indexer(data,column)\n",
    "\n",
    "#划分测试集和训练集\n",
    "X=data.iloc[:,2:]\n",
    "Y=data[\"Attrition_Flag\"]\n",
    "X_train,X_test,Y_train,Y_test=train_test_split(X,Y,test_size=0.3,random_state=1)"
   ]
  },
  {
   "cell_type": "code",
   "execution_count": 85,
   "id": "ca4bf46c",
   "metadata": {},
   "outputs": [
    {
     "name": "stdout",
     "output_type": "stream",
     "text": [
      "准确率为：0.937\n",
      "精度为：0.969\n",
      "召回率为：0.957\n",
      "F1得分为：0.963\n"
     ]
    }
   ],
   "source": [
    "#训练模型\n",
    "clf=tree.DecisionTreeClassifier(criterion=\"entropy\")\n",
    "clsf=clf.fit(X_train,Y_train)\n",
    "\n",
    "#做出预测并计算各项指标\n",
    "prediction=clf.predict(X_test)\n",
    "#准确率\n",
    "accuracy=accuracy_score(Y_test,prediction)\n",
    "#精度\n",
    "precision=precision_score(Y_test,prediction)\n",
    "#召回率\n",
    "recall=recall_score(Y_test,prediction)\n",
    "#F1\n",
    "f1=f1_score(Y_test,prediction)\n",
    "\n",
    "#输出结果\n",
    "print(\"准确率为：%.3f\" % accuracy)\n",
    "print(\"精度为：%.3f\" % precision)\n",
    "print(\"召回率为：%.3f\" % recall)\n",
    "print(\"F1得分为：%.3f\" % f1)"
   ]
  }
 ],
 "metadata": {
  "kernelspec": {
   "display_name": "Python 3",
   "language": "python",
   "name": "python3"
  },
  "language_info": {
   "codemirror_mode": {
    "name": "ipython",
    "version": 3
   },
   "file_extension": ".py",
   "mimetype": "text/x-python",
   "name": "python",
   "nbconvert_exporter": "python",
   "pygments_lexer": "ipython3",
   "version": "3.8.8"
  }
 },
 "nbformat": 4,
 "nbformat_minor": 5
}
